{
 "cells": [
  {
   "cell_type": "markdown",
   "id": "17fc8bc2",
   "metadata": {},
   "source": [
    "# Silicon valley predictions"
   ]
  },
  {
   "cell_type": "markdown",
   "id": "d4f7d65e",
   "metadata": {},
   "source": [
    "### This is the following step of my EDA"
   ]
  },
  {
   "cell_type": "code",
   "execution_count": 5,
   "id": "5b470352",
   "metadata": {},
   "outputs": [],
   "source": [
    "#Import\n",
    "import numpy as np\n",
    "import pandas as pd\n",
    "import matplotlib.pyplot as plt\n",
    "import seaborn as sns\n",
    "\n",
    "from sklearn.model_selection import train_test_split\n",
    "from sklearn.model_selection import cross_validate\n",
    "from sklearn.model_selection import cross_val_score\n",
    "from sklearn.model_selection import cross_val_predict\n",
    "from sklearn.linear_model import LinearRegression\n",
    "from sklearn.metrics import mean_absolute_error\n",
    "from sklearn.neighbors import KNeighborsClassifier\n",
    "from sklearn.cluster import KMeans\n",
    "from yellowbrick.cluster import KElbowVisualizer\n",
    "from sklearn.metrics import accuracy_score, precision_score, recall_score, f1_score, \\\n",
    "    confusion_matrix, classification_report\n",
    "from sklearn.naive_bayes import GaussianNB\n",
    "from sklearn.preprocessing import MinMaxScaler\n",
    "from sklearn.metrics import roc_auc_score, plot_roc_curve, roc_curve\n",
    "from sklearn.metrics import average_precision_score\n",
    "from sklearn.metrics import precision_recall_curve,plot_precision_recall_curve\n",
    "from sklearn.metrics import *\n",
    "from sklearn.preprocessing import StandardScaler\n",
    "from sklearn.preprocessing import RobustScaler\n",
    "from sklearn.model_selection import learning_curve\n",
    "\n",
    "from statsmodels.stats.outliers_influence import variance_inflation_factor as vif\n",
    "from sklearn.model_selection import KFold\n",
    "from sklearn.inspection import permutation_importance\n",
    "from sklearn.pipeline import make_pipeline\n",
    "\n",
    "import pickle\n",
    "\n",
    "import warnings\n",
    "warnings.simplefilter(action=\"ignore\")"
   ]
  },
  {
   "cell_type": "code",
   "execution_count": 118,
   "id": "c5d75877",
   "metadata": {},
   "outputs": [
    {
     "data": {
      "text/html": [
       "<div>\n",
       "<style scoped>\n",
       "    .dataframe tbody tr th:only-of-type {\n",
       "        vertical-align: middle;\n",
       "    }\n",
       "\n",
       "    .dataframe tbody tr th {\n",
       "        vertical-align: top;\n",
       "    }\n",
       "\n",
       "    .dataframe thead th {\n",
       "        text-align: right;\n",
       "    }\n",
       "</style>\n",
       "<table border=\"1\" class=\"dataframe\">\n",
       "  <thead>\n",
       "    <tr style=\"text-align: right;\">\n",
       "      <th></th>\n",
       "      <th>Unnamed: 0</th>\n",
       "      <th>longitude</th>\n",
       "      <th>latitude</th>\n",
       "      <th>housing_median_age</th>\n",
       "      <th>total_rooms</th>\n",
       "      <th>total_bedrooms</th>\n",
       "      <th>population</th>\n",
       "      <th>households</th>\n",
       "      <th>median_income</th>\n",
       "      <th>median_house_value</th>\n",
       "      <th>ocean_proximity</th>\n",
       "    </tr>\n",
       "  </thead>\n",
       "  <tbody>\n",
       "    <tr>\n",
       "      <th>0</th>\n",
       "      <td>2072</td>\n",
       "      <td>-119.84</td>\n",
       "      <td>36.77</td>\n",
       "      <td>6.0</td>\n",
       "      <td>1853.0</td>\n",
       "      <td>473.0</td>\n",
       "      <td>1397.0</td>\n",
       "      <td>417.0</td>\n",
       "      <td>1.4817</td>\n",
       "      <td>72000.0</td>\n",
       "      <td>INLAND</td>\n",
       "    </tr>\n",
       "    <tr>\n",
       "      <th>1</th>\n",
       "      <td>10600</td>\n",
       "      <td>-117.80</td>\n",
       "      <td>33.68</td>\n",
       "      <td>8.0</td>\n",
       "      <td>2032.0</td>\n",
       "      <td>349.0</td>\n",
       "      <td>862.0</td>\n",
       "      <td>340.0</td>\n",
       "      <td>6.9133</td>\n",
       "      <td>274100.0</td>\n",
       "      <td>&lt;1H OCEAN</td>\n",
       "    </tr>\n",
       "    <tr>\n",
       "      <th>2</th>\n",
       "      <td>2494</td>\n",
       "      <td>-120.19</td>\n",
       "      <td>36.60</td>\n",
       "      <td>25.0</td>\n",
       "      <td>875.0</td>\n",
       "      <td>214.0</td>\n",
       "      <td>931.0</td>\n",
       "      <td>214.0</td>\n",
       "      <td>1.5536</td>\n",
       "      <td>58300.0</td>\n",
       "      <td>INLAND</td>\n",
       "    </tr>\n",
       "    <tr>\n",
       "      <th>3</th>\n",
       "      <td>4284</td>\n",
       "      <td>-118.32</td>\n",
       "      <td>34.10</td>\n",
       "      <td>31.0</td>\n",
       "      <td>622.0</td>\n",
       "      <td>229.0</td>\n",
       "      <td>597.0</td>\n",
       "      <td>227.0</td>\n",
       "      <td>1.5284</td>\n",
       "      <td>200000.0</td>\n",
       "      <td>&lt;1H OCEAN</td>\n",
       "    </tr>\n",
       "    <tr>\n",
       "      <th>4</th>\n",
       "      <td>16541</td>\n",
       "      <td>-121.23</td>\n",
       "      <td>37.79</td>\n",
       "      <td>21.0</td>\n",
       "      <td>1922.0</td>\n",
       "      <td>373.0</td>\n",
       "      <td>1130.0</td>\n",
       "      <td>372.0</td>\n",
       "      <td>4.0815</td>\n",
       "      <td>117900.0</td>\n",
       "      <td>INLAND</td>\n",
       "    </tr>\n",
       "    <tr>\n",
       "      <th>...</th>\n",
       "      <td>...</td>\n",
       "      <td>...</td>\n",
       "      <td>...</td>\n",
       "      <td>...</td>\n",
       "      <td>...</td>\n",
       "      <td>...</td>\n",
       "      <td>...</td>\n",
       "      <td>...</td>\n",
       "      <td>...</td>\n",
       "      <td>...</td>\n",
       "      <td>...</td>\n",
       "    </tr>\n",
       "    <tr>\n",
       "      <th>16507</th>\n",
       "      <td>1099</td>\n",
       "      <td>-121.90</td>\n",
       "      <td>39.59</td>\n",
       "      <td>20.0</td>\n",
       "      <td>1465.0</td>\n",
       "      <td>278.0</td>\n",
       "      <td>745.0</td>\n",
       "      <td>250.0</td>\n",
       "      <td>3.0625</td>\n",
       "      <td>93800.0</td>\n",
       "      <td>INLAND</td>\n",
       "    </tr>\n",
       "    <tr>\n",
       "      <th>16508</th>\n",
       "      <td>18898</td>\n",
       "      <td>-122.25</td>\n",
       "      <td>38.11</td>\n",
       "      <td>49.0</td>\n",
       "      <td>2365.0</td>\n",
       "      <td>504.0</td>\n",
       "      <td>1131.0</td>\n",
       "      <td>458.0</td>\n",
       "      <td>2.6133</td>\n",
       "      <td>103100.0</td>\n",
       "      <td>NEAR BAY</td>\n",
       "    </tr>\n",
       "    <tr>\n",
       "      <th>16509</th>\n",
       "      <td>11798</td>\n",
       "      <td>-121.22</td>\n",
       "      <td>38.92</td>\n",
       "      <td>19.0</td>\n",
       "      <td>2531.0</td>\n",
       "      <td>461.0</td>\n",
       "      <td>1206.0</td>\n",
       "      <td>429.0</td>\n",
       "      <td>4.4958</td>\n",
       "      <td>192600.0</td>\n",
       "      <td>INLAND</td>\n",
       "    </tr>\n",
       "    <tr>\n",
       "      <th>16510</th>\n",
       "      <td>6637</td>\n",
       "      <td>-118.14</td>\n",
       "      <td>34.16</td>\n",
       "      <td>39.0</td>\n",
       "      <td>2776.0</td>\n",
       "      <td>840.0</td>\n",
       "      <td>2546.0</td>\n",
       "      <td>773.0</td>\n",
       "      <td>2.5750</td>\n",
       "      <td>153500.0</td>\n",
       "      <td>&lt;1H OCEAN</td>\n",
       "    </tr>\n",
       "    <tr>\n",
       "      <th>16511</th>\n",
       "      <td>2575</td>\n",
       "      <td>-124.13</td>\n",
       "      <td>40.80</td>\n",
       "      <td>31.0</td>\n",
       "      <td>2152.0</td>\n",
       "      <td>462.0</td>\n",
       "      <td>1259.0</td>\n",
       "      <td>420.0</td>\n",
       "      <td>2.2478</td>\n",
       "      <td>81100.0</td>\n",
       "      <td>NEAR OCEAN</td>\n",
       "    </tr>\n",
       "  </tbody>\n",
       "</table>\n",
       "<p>16512 rows × 11 columns</p>\n",
       "</div>"
      ],
      "text/plain": [
       "       Unnamed: 0  longitude  latitude  housing_median_age  total_rooms  \\\n",
       "0            2072    -119.84     36.77                 6.0       1853.0   \n",
       "1           10600    -117.80     33.68                 8.0       2032.0   \n",
       "2            2494    -120.19     36.60                25.0        875.0   \n",
       "3            4284    -118.32     34.10                31.0        622.0   \n",
       "4           16541    -121.23     37.79                21.0       1922.0   \n",
       "...           ...        ...       ...                 ...          ...   \n",
       "16507        1099    -121.90     39.59                20.0       1465.0   \n",
       "16508       18898    -122.25     38.11                49.0       2365.0   \n",
       "16509       11798    -121.22     38.92                19.0       2531.0   \n",
       "16510        6637    -118.14     34.16                39.0       2776.0   \n",
       "16511        2575    -124.13     40.80                31.0       2152.0   \n",
       "\n",
       "       total_bedrooms  population  households  median_income  \\\n",
       "0               473.0      1397.0       417.0         1.4817   \n",
       "1               349.0       862.0       340.0         6.9133   \n",
       "2               214.0       931.0       214.0         1.5536   \n",
       "3               229.0       597.0       227.0         1.5284   \n",
       "4               373.0      1130.0       372.0         4.0815   \n",
       "...               ...         ...         ...            ...   \n",
       "16507           278.0       745.0       250.0         3.0625   \n",
       "16508           504.0      1131.0       458.0         2.6133   \n",
       "16509           461.0      1206.0       429.0         4.4958   \n",
       "16510           840.0      2546.0       773.0         2.5750   \n",
       "16511           462.0      1259.0       420.0         2.2478   \n",
       "\n",
       "       median_house_value ocean_proximity  \n",
       "0                 72000.0          INLAND  \n",
       "1                274100.0       <1H OCEAN  \n",
       "2                 58300.0          INLAND  \n",
       "3                200000.0       <1H OCEAN  \n",
       "4                117900.0          INLAND  \n",
       "...                   ...             ...  \n",
       "16507             93800.0          INLAND  \n",
       "16508            103100.0        NEAR BAY  \n",
       "16509            192600.0          INLAND  \n",
       "16510            153500.0       <1H OCEAN  \n",
       "16511             81100.0      NEAR OCEAN  \n",
       "\n",
       "[16512 rows x 11 columns]"
      ]
     },
     "execution_count": 118,
     "metadata": {},
     "output_type": "execute_result"
    }
   ],
   "source": [
    "raw_data = pd.read_csv('data/housing_train_data.txt', sep=\",\")\n",
    "raw_data"
   ]
  },
  {
   "cell_type": "code",
   "execution_count": 55,
   "id": "fd6a520f",
   "metadata": {},
   "outputs": [],
   "source": [
    "raw_data = pd.get_dummies(raw_data, columns=[\"ocean_proximity\"], prefix=[\"loc\"],drop_first=True)"
   ]
  },
  {
   "cell_type": "code",
   "execution_count": 56,
   "id": "d68019cb",
   "metadata": {},
   "outputs": [],
   "source": [
    "#I'll check later on what I am going to do with theses \n",
    "raw_data = raw_data.drop(['Unnamed: 0'], axis=1)"
   ]
  },
  {
   "cell_type": "markdown",
   "id": "34f52425",
   "metadata": {},
   "source": [
    "# 1st itteration"
   ]
  },
  {
   "cell_type": "markdown",
   "id": "93a64890",
   "metadata": {},
   "source": [
    "I will predict the 176 missing values using the raw dataset, then perform a StandardScaler and a Linear Regression using all the features"
   ]
  },
  {
   "cell_type": "code",
   "execution_count": 57,
   "id": "f4d1237b",
   "metadata": {},
   "outputs": [],
   "source": [
    "#Separate Null data as test data\n",
    "is_null = raw_data.isnull()\n",
    "row_has_null = is_null.any(axis=1)\n",
    "test_data = raw_data[row_has_null]"
   ]
  },
  {
   "cell_type": "code",
   "execution_count": 58,
   "id": "d88077ab",
   "metadata": {},
   "outputs": [],
   "source": [
    "#Drop the null values from the dataframe and considers as train data\n",
    "train_data = raw_data[raw_data['total_bedrooms'] > 0]"
   ]
  },
  {
   "cell_type": "code",
   "execution_count": 59,
   "id": "7206fb72",
   "metadata": {},
   "outputs": [],
   "source": [
    "#Values from the dataframe with non Null\n",
    "y_train = train_data['total_bedrooms']\n",
    "X_train = train_data.drop(['total_bedrooms'], axis=1)\n",
    "\n",
    "# X_test means 'dataset' expect \n",
    "X_test = test_data.drop(['total_bedrooms'], axis=1)\n",
    "\n",
    "lr = LinearRegression()\n",
    "lr.fit(X_train, y_train)\n",
    "y_pred= lr.predict(X_test)"
   ]
  },
  {
   "cell_type": "code",
   "execution_count": 60,
   "id": "31dd6c22",
   "metadata": {},
   "outputs": [],
   "source": [
    "y_pred = np.round(y_pred)\n",
    "y_pred\n",
    "\n",
    "test_data.loc[test_data.total_bedrooms.isnull(), \"total_bedrooms\"] = y_pred"
   ]
  },
  {
   "cell_type": "markdown",
   "id": "3d10014c",
   "metadata": {},
   "source": [
    "### Missing values filled zith predicted ones"
   ]
  },
  {
   "cell_type": "code",
   "execution_count": 61,
   "id": "5c1f5d73",
   "metadata": {},
   "outputs": [],
   "source": [
    "test_data.loc[test_data.total_bedrooms.isnull(), \"total_bedrooms\"] = y_pred"
   ]
  },
  {
   "cell_type": "code",
   "execution_count": 62,
   "id": "456b2034",
   "metadata": {},
   "outputs": [],
   "source": [
    "#Joining the 2 datasets\n",
    "data_clean = train_data.append(test_data, ignore_index=True)"
   ]
  },
  {
   "cell_type": "markdown",
   "id": "5f86dec5",
   "metadata": {},
   "source": [
    "# This is where all my models will start"
   ]
  },
  {
   "cell_type": "code",
   "execution_count": 63,
   "id": "a427bc20",
   "metadata": {},
   "outputs": [
    {
     "data": {
      "text/html": [
       "<div>\n",
       "<style scoped>\n",
       "    .dataframe tbody tr th:only-of-type {\n",
       "        vertical-align: middle;\n",
       "    }\n",
       "\n",
       "    .dataframe tbody tr th {\n",
       "        vertical-align: top;\n",
       "    }\n",
       "\n",
       "    .dataframe thead th {\n",
       "        text-align: right;\n",
       "    }\n",
       "</style>\n",
       "<table border=\"1\" class=\"dataframe\">\n",
       "  <thead>\n",
       "    <tr style=\"text-align: right;\">\n",
       "      <th></th>\n",
       "      <th>longitude</th>\n",
       "      <th>latitude</th>\n",
       "      <th>housing_median_age</th>\n",
       "      <th>total_rooms</th>\n",
       "      <th>total_bedrooms</th>\n",
       "      <th>population</th>\n",
       "      <th>households</th>\n",
       "      <th>median_income</th>\n",
       "      <th>median_house_value</th>\n",
       "      <th>loc_INLAND</th>\n",
       "      <th>loc_ISLAND</th>\n",
       "      <th>loc_NEAR BAY</th>\n",
       "      <th>loc_NEAR OCEAN</th>\n",
       "    </tr>\n",
       "  </thead>\n",
       "  <tbody>\n",
       "    <tr>\n",
       "      <th>0</th>\n",
       "      <td>-119.84</td>\n",
       "      <td>36.77</td>\n",
       "      <td>6.0</td>\n",
       "      <td>1853.0</td>\n",
       "      <td>473.0</td>\n",
       "      <td>1397.0</td>\n",
       "      <td>417.0</td>\n",
       "      <td>1.4817</td>\n",
       "      <td>72000.0</td>\n",
       "      <td>1</td>\n",
       "      <td>0</td>\n",
       "      <td>0</td>\n",
       "      <td>0</td>\n",
       "    </tr>\n",
       "    <tr>\n",
       "      <th>1</th>\n",
       "      <td>-117.80</td>\n",
       "      <td>33.68</td>\n",
       "      <td>8.0</td>\n",
       "      <td>2032.0</td>\n",
       "      <td>349.0</td>\n",
       "      <td>862.0</td>\n",
       "      <td>340.0</td>\n",
       "      <td>6.9133</td>\n",
       "      <td>274100.0</td>\n",
       "      <td>0</td>\n",
       "      <td>0</td>\n",
       "      <td>0</td>\n",
       "      <td>0</td>\n",
       "    </tr>\n",
       "    <tr>\n",
       "      <th>2</th>\n",
       "      <td>-120.19</td>\n",
       "      <td>36.60</td>\n",
       "      <td>25.0</td>\n",
       "      <td>875.0</td>\n",
       "      <td>214.0</td>\n",
       "      <td>931.0</td>\n",
       "      <td>214.0</td>\n",
       "      <td>1.5536</td>\n",
       "      <td>58300.0</td>\n",
       "      <td>1</td>\n",
       "      <td>0</td>\n",
       "      <td>0</td>\n",
       "      <td>0</td>\n",
       "    </tr>\n",
       "    <tr>\n",
       "      <th>3</th>\n",
       "      <td>-118.32</td>\n",
       "      <td>34.10</td>\n",
       "      <td>31.0</td>\n",
       "      <td>622.0</td>\n",
       "      <td>229.0</td>\n",
       "      <td>597.0</td>\n",
       "      <td>227.0</td>\n",
       "      <td>1.5284</td>\n",
       "      <td>200000.0</td>\n",
       "      <td>0</td>\n",
       "      <td>0</td>\n",
       "      <td>0</td>\n",
       "      <td>0</td>\n",
       "    </tr>\n",
       "    <tr>\n",
       "      <th>4</th>\n",
       "      <td>-121.23</td>\n",
       "      <td>37.79</td>\n",
       "      <td>21.0</td>\n",
       "      <td>1922.0</td>\n",
       "      <td>373.0</td>\n",
       "      <td>1130.0</td>\n",
       "      <td>372.0</td>\n",
       "      <td>4.0815</td>\n",
       "      <td>117900.0</td>\n",
       "      <td>1</td>\n",
       "      <td>0</td>\n",
       "      <td>0</td>\n",
       "      <td>0</td>\n",
       "    </tr>\n",
       "    <tr>\n",
       "      <th>...</th>\n",
       "      <td>...</td>\n",
       "      <td>...</td>\n",
       "      <td>...</td>\n",
       "      <td>...</td>\n",
       "      <td>...</td>\n",
       "      <td>...</td>\n",
       "      <td>...</td>\n",
       "      <td>...</td>\n",
       "      <td>...</td>\n",
       "      <td>...</td>\n",
       "      <td>...</td>\n",
       "      <td>...</td>\n",
       "      <td>...</td>\n",
       "    </tr>\n",
       "    <tr>\n",
       "      <th>16507</th>\n",
       "      <td>-119.73</td>\n",
       "      <td>34.44</td>\n",
       "      <td>38.0</td>\n",
       "      <td>1729.0</td>\n",
       "      <td>430.0</td>\n",
       "      <td>801.0</td>\n",
       "      <td>395.0</td>\n",
       "      <td>3.1364</td>\n",
       "      <td>357500.0</td>\n",
       "      <td>0</td>\n",
       "      <td>0</td>\n",
       "      <td>0</td>\n",
       "      <td>1</td>\n",
       "    </tr>\n",
       "    <tr>\n",
       "      <th>16508</th>\n",
       "      <td>-122.28</td>\n",
       "      <td>37.51</td>\n",
       "      <td>33.0</td>\n",
       "      <td>4719.0</td>\n",
       "      <td>814.0</td>\n",
       "      <td>1980.0</td>\n",
       "      <td>757.0</td>\n",
       "      <td>6.1064</td>\n",
       "      <td>405000.0</td>\n",
       "      <td>0</td>\n",
       "      <td>0</td>\n",
       "      <td>0</td>\n",
       "      <td>1</td>\n",
       "    </tr>\n",
       "    <tr>\n",
       "      <th>16509</th>\n",
       "      <td>-118.28</td>\n",
       "      <td>34.06</td>\n",
       "      <td>42.0</td>\n",
       "      <td>2472.0</td>\n",
       "      <td>1084.0</td>\n",
       "      <td>3795.0</td>\n",
       "      <td>1179.0</td>\n",
       "      <td>1.2254</td>\n",
       "      <td>162500.0</td>\n",
       "      <td>0</td>\n",
       "      <td>0</td>\n",
       "      <td>0</td>\n",
       "      <td>0</td>\n",
       "    </tr>\n",
       "    <tr>\n",
       "      <th>16510</th>\n",
       "      <td>-122.23</td>\n",
       "      <td>38.17</td>\n",
       "      <td>45.0</td>\n",
       "      <td>350.0</td>\n",
       "      <td>113.0</td>\n",
       "      <td>225.0</td>\n",
       "      <td>72.0</td>\n",
       "      <td>1.8942</td>\n",
       "      <td>216700.0</td>\n",
       "      <td>0</td>\n",
       "      <td>0</td>\n",
       "      <td>1</td>\n",
       "      <td>0</td>\n",
       "    </tr>\n",
       "    <tr>\n",
       "      <th>16511</th>\n",
       "      <td>-119.78</td>\n",
       "      <td>36.82</td>\n",
       "      <td>25.0</td>\n",
       "      <td>5016.0</td>\n",
       "      <td>1016.0</td>\n",
       "      <td>2133.0</td>\n",
       "      <td>928.0</td>\n",
       "      <td>3.6250</td>\n",
       "      <td>89500.0</td>\n",
       "      <td>1</td>\n",
       "      <td>0</td>\n",
       "      <td>0</td>\n",
       "      <td>0</td>\n",
       "    </tr>\n",
       "  </tbody>\n",
       "</table>\n",
       "<p>16512 rows × 13 columns</p>\n",
       "</div>"
      ],
      "text/plain": [
       "       longitude  latitude  housing_median_age  total_rooms  total_bedrooms  \\\n",
       "0        -119.84     36.77                 6.0       1853.0           473.0   \n",
       "1        -117.80     33.68                 8.0       2032.0           349.0   \n",
       "2        -120.19     36.60                25.0        875.0           214.0   \n",
       "3        -118.32     34.10                31.0        622.0           229.0   \n",
       "4        -121.23     37.79                21.0       1922.0           373.0   \n",
       "...          ...       ...                 ...          ...             ...   \n",
       "16507    -119.73     34.44                38.0       1729.0           430.0   \n",
       "16508    -122.28     37.51                33.0       4719.0           814.0   \n",
       "16509    -118.28     34.06                42.0       2472.0          1084.0   \n",
       "16510    -122.23     38.17                45.0        350.0           113.0   \n",
       "16511    -119.78     36.82                25.0       5016.0          1016.0   \n",
       "\n",
       "       population  households  median_income  median_house_value  loc_INLAND  \\\n",
       "0          1397.0       417.0         1.4817             72000.0           1   \n",
       "1           862.0       340.0         6.9133            274100.0           0   \n",
       "2           931.0       214.0         1.5536             58300.0           1   \n",
       "3           597.0       227.0         1.5284            200000.0           0   \n",
       "4          1130.0       372.0         4.0815            117900.0           1   \n",
       "...           ...         ...            ...                 ...         ...   \n",
       "16507       801.0       395.0         3.1364            357500.0           0   \n",
       "16508      1980.0       757.0         6.1064            405000.0           0   \n",
       "16509      3795.0      1179.0         1.2254            162500.0           0   \n",
       "16510       225.0        72.0         1.8942            216700.0           0   \n",
       "16511      2133.0       928.0         3.6250             89500.0           1   \n",
       "\n",
       "       loc_ISLAND  loc_NEAR BAY  loc_NEAR OCEAN  \n",
       "0               0             0               0  \n",
       "1               0             0               0  \n",
       "2               0             0               0  \n",
       "3               0             0               0  \n",
       "4               0             0               0  \n",
       "...           ...           ...             ...  \n",
       "16507           0             0               1  \n",
       "16508           0             0               1  \n",
       "16509           0             0               0  \n",
       "16510           0             1               0  \n",
       "16511           0             0               0  \n",
       "\n",
       "[16512 rows x 13 columns]"
      ]
     },
     "execution_count": 63,
     "metadata": {},
     "output_type": "execute_result"
    }
   ],
   "source": [
    "data_clean"
   ]
  },
  {
   "cell_type": "markdown",
   "id": "f86d083d",
   "metadata": {},
   "source": [
    "# 1st iteration"
   ]
  },
  {
   "cell_type": "code",
   "execution_count": 64,
   "id": "3071c967",
   "metadata": {},
   "outputs": [
    {
     "data": {
      "text/plain": [
       "0.6642659561765447"
      ]
     },
     "execution_count": 64,
     "metadata": {},
     "output_type": "execute_result"
    }
   ],
   "source": [
    "# define X, y\n",
    "\n",
    "y = data_clean[\"median_house_value\"]\n",
    "X = data_clean.drop([\"median_house_value\"], axis=1)\n",
    "\n",
    "# Splitting the data\n",
    "X_train, X_test, y_train, y_test = train_test_split(X, y, \n",
    "                                                    test_size=.3, \n",
    "                                                    random_state=7)\n",
    "\n",
    "\n",
    "\n",
    "pipe = make_pipeline(StandardScaler(), LinearRegression())\n",
    "pipe.fit(X_train, y_train)\n",
    "pipe.predict(X_test)\n",
    "pipe.score(X_test, y_test)"
   ]
  },
  {
   "cell_type": "code",
   "execution_count": 65,
   "id": "04aaa9b4",
   "metadata": {},
   "outputs": [
    {
     "name": "stdout",
     "output_type": "stream",
     "text": [
      "MAE: 49022.23730843731\n",
      "RMSE: 66836.04647297683\n"
     ]
    }
   ],
   "source": [
    "y_pred = pipe.predict(X_test)\n",
    "print('MAE:', mean_absolute_error(y_test, y_pred))\n",
    "print('RMSE:', np.sqrt(mean_squared_error(y_test, y_pred)))"
   ]
  },
  {
   "cell_type": "markdown",
   "id": "f5adfe2f",
   "metadata": {},
   "source": [
    "This is not a good score, I will try to change my metric"
   ]
  },
  {
   "cell_type": "markdown",
   "id": "2643e01a",
   "metadata": {},
   "source": [
    "# 2nd iteration"
   ]
  },
  {
   "cell_type": "markdown",
   "id": "af213db1",
   "metadata": {},
   "source": [
    "In this one I will try a MinMaxScaler and a LinearRegression using all the features"
   ]
  },
  {
   "cell_type": "code",
   "execution_count": 66,
   "id": "828c50fd",
   "metadata": {},
   "outputs": [
    {
     "data": {
      "text/plain": [
       "0.6642659561765447"
      ]
     },
     "execution_count": 66,
     "metadata": {},
     "output_type": "execute_result"
    }
   ],
   "source": [
    "# define X, y\n",
    "\n",
    "y = data_clean[\"median_house_value\"]\n",
    "X = data_clean.drop([\"median_house_value\"], axis=1)\n",
    "\n",
    "# Splitting the data\n",
    "X_train, X_test, y_train, y_test = train_test_split(X, y, \n",
    "                                                    test_size=.3, \n",
    "                                                    random_state=7)\n",
    "\n",
    "\n",
    "\n",
    "pipe2 = make_pipeline(RobustScaler(), LinearRegression())\n",
    "pipe2.fit(X_train, y_train)\n",
    "pipe2.predict(X_test)\n",
    "pipe2.score(X_test, y_test)"
   ]
  },
  {
   "cell_type": "code",
   "execution_count": 67,
   "id": "a230f414",
   "metadata": {},
   "outputs": [
    {
     "name": "stdout",
     "output_type": "stream",
     "text": [
      "MAE: 49022.23730843731\n",
      "RMSE: 66836.04647297683\n"
     ]
    }
   ],
   "source": [
    "y_pred = pipe.predict(X_test)\n",
    "print('MAE:', mean_absolute_error(y_test, y_pred))\n",
    "print('RMSE:', np.sqrt(mean_squared_error(y_test, y_pred)))"
   ]
  },
  {
   "cell_type": "markdown",
   "id": "f3ad19f7",
   "metadata": {},
   "source": [
    "There is no changes"
   ]
  },
  {
   "cell_type": "markdown",
   "id": "4fe4d0be",
   "metadata": {},
   "source": [
    "# 3rd iteration"
   ]
  },
  {
   "cell_type": "markdown",
   "id": "14827037",
   "metadata": {},
   "source": [
    "On this one i had the best score, using MinMaxScaler, a Kmeans and a KNN but the model was over fitting"
   ]
  },
  {
   "cell_type": "code",
   "execution_count": 68,
   "id": "d09a1485",
   "metadata": {},
   "outputs": [
    {
     "data": {
      "image/png": "[encoded data removed]",
      "text/plain": [
       "<Figure size 576x396 with 2 Axes>"
      ]
     },
     "metadata": {},
     "output_type": "display_data"
    },
    {
     "data": {
      "text/plain": [
       "<AxesSubplot:title={'center':'Distortion Score Elbow for KMeans Clustering'}, xlabel='k', ylabel='distortion score'>"
      ]
     },
     "execution_count": 68,
     "metadata": {},
     "output_type": "execute_result"
    }
   ],
   "source": [
    "X = data_clean \n",
    "model = KMeans()\n",
    "visualizer = KElbowVisualizer(model, k=(4,12))\n",
    "\n",
    "visualizer.fit(X)        # Fit the data to the visualizer\n",
    "visualizer.show() "
   ]
  },
  {
   "cell_type": "code",
   "execution_count": 69,
   "id": "9b6ef06d",
   "metadata": {},
   "outputs": [],
   "source": [
    "kmeans = data_clean\n",
    "\n",
    "kmeansed = KMeans(n_clusters =6,init='k-means++').fit(kmeans)\n",
    "kmeansed.labels_\n",
    "kmeans['kmeans_cluster'] = kmeansed.predict(kmeans)"
   ]
  },
  {
   "cell_type": "code",
   "execution_count": 70,
   "id": "00e83ae7",
   "metadata": {},
   "outputs": [
    {
     "data": {
      "text/plain": [
       "0.9608324037490863"
      ]
     },
     "execution_count": 70,
     "metadata": {},
     "output_type": "execute_result"
    }
   ],
   "source": [
    "# define X, y\n",
    "\n",
    "y = data_clean[\"median_house_value\"]\n",
    "X = data_clean.drop([\"median_house_value\", \"total_bedrooms\", \"total_rooms\", \"latitude\"], axis=1)\n",
    "\n",
    "# Splitting the data\n",
    "X_train, X_test, y_train, y_test = train_test_split(X, y, \n",
    "                                                    test_size=.3, \n",
    "                                                    random_state=7)\n",
    "\n",
    "\n",
    "\n",
    "over_fit_pipe = make_pipeline(MinMaxScaler(), KNeighborsRegressor(n_neighbors=6))\n",
    "over_fit_pipe.fit(X_train, y_train)\n",
    "over_fit_pipe.predict(X_test)\n",
    "over_fit_pipe.score(X_test, y_test)\n"
   ]
  },
  {
   "cell_type": "code",
   "execution_count": 71,
   "id": "1e4f5a01",
   "metadata": {},
   "outputs": [
    {
     "name": "stdout",
     "output_type": "stream",
     "text": [
      "{'fit_time': array([0.08694482, 0.08636284, 0.09374905, 0.07812166, 0.10326958]), 'score_time': array([0.14470935, 0.16120291, 0.12499428, 0.17147374, 0.23575783]), 'test_score': array([0.96723435, 0.95781258, 0.96269751, 0.95985088, 0.95379955])}\n"
     ]
    }
   ],
   "source": [
    "cv = cross_validate(over_fit_pipe,X, y, cv=5)\n",
    "print(cv)"
   ]
  },
  {
   "cell_type": "code",
   "execution_count": 72,
   "id": "dfa09781",
   "metadata": {},
   "outputs": [
    {
     "name": "stdout",
     "output_type": "stream",
     "text": [
      "MAE: 16201.75097564258\n",
      "RMSE: 22828.455066773367\n"
     ]
    }
   ],
   "source": [
    "y_pred = over_fit_pipe.predict(X_test)\n",
    "print('MAE:', mean_absolute_error(y_test, y_pred))\n",
    "print('RMSE:', np.sqrt(mean_squared_error(y_test, y_pred)))"
   ]
  },
  {
   "cell_type": "code",
   "execution_count": 73,
   "id": "2e294fa8",
   "metadata": {},
   "outputs": [],
   "source": [
    "# Get train scores, train sizes, and validation scores using `learning_curve`, r2 score\n",
    "train_sizes, train_scores, test_scores = learning_curve(estimator = over_fit_pipe,\n",
    "                                          X = X,\n",
    "                                          y = y,\n",
    "                                          train_sizes = [5,10,50,100,200,300,400,1000],\n",
    "                                          cv = 5,\n",
    "                                          shuffle = True,\n",
    "                                          random_state=3)"
   ]
  },
  {
   "cell_type": "code",
   "execution_count": 74,
   "id": "def38cb0",
   "metadata": {},
   "outputs": [],
   "source": [
    "# Take the mean of cross-validated train scores and validation scores\n",
    "train_scores_mean = np.mean(train_scores, axis=1)\n",
    "test_scores_mean = np.mean(test_scores, axis=1)"
   ]
  },
  {
   "cell_type": "code",
   "execution_count": 75,
   "id": "d8fa264a",
   "metadata": {},
   "outputs": [
    {
     "data": {
      "image/png": "[encoded data removed]",
      "text/plain": [
       "<Figure size 576x396 with 1 Axes>"
      ]
     },
     "metadata": {},
     "output_type": "display_data"
    }
   ],
   "source": [
    "# Plot the learning curves!\n",
    "plt.plot(train_sizes, train_scores_mean, label = 'Training score')\n",
    "plt.plot(train_sizes, test_scores_mean, label = 'Test score')\n",
    "plt.ylabel('score', fontsize = 14)\n",
    "plt.xlabel('Training set size', fontsize = 14)\n",
    "plt.title('Learning curves - pipe', fontsize = 18, y = 1.03)\n",
    "plt.legend()\n",
    "plt.show()"
   ]
  },
  {
   "cell_type": "markdown",
   "id": "876b3dab",
   "metadata": {},
   "source": [
    "### ALERT OVER FIT, dump this model"
   ]
  },
  {
   "cell_type": "markdown",
   "id": "4329bc68",
   "metadata": {},
   "source": [
    "# 4th iteration"
   ]
  },
  {
   "cell_type": "code",
   "execution_count": 76,
   "id": "05b30c0b",
   "metadata": {},
   "outputs": [
    {
     "data": {
      "image/png": "[encoded data removed]",
      "text/plain": [
       "<Figure size 576x396 with 2 Axes>"
      ]
     },
     "metadata": {},
     "output_type": "display_data"
    },
    {
     "data": {
      "text/plain": [
       "<AxesSubplot:title={'center':'Distortion Score Elbow for KMeans Clustering'}, xlabel='k', ylabel='distortion score'>"
      ]
     },
     "execution_count": 76,
     "metadata": {},
     "output_type": "execute_result"
    }
   ],
   "source": [
    "X = data_clean \n",
    "model = KMeans()\n",
    "visualizer = KElbowVisualizer(model, k=(1,10))\n",
    "\n",
    "visualizer.fit(X)        # Fit the data to the visualizer\n",
    "visualizer.show() "
   ]
  },
  {
   "cell_type": "code",
   "execution_count": 77,
   "id": "495a3b79",
   "metadata": {},
   "outputs": [],
   "source": [
    "kmeans = data_clean\n",
    "\n",
    "kmeansed = KMeans(n_clusters =3,init='k-means++').fit(kmeans)\n",
    "kmeansed.labels_\n",
    "kmeans['kmeans_cluster'] = kmeansed.predict(kmeans)"
   ]
  },
  {
   "cell_type": "code",
   "execution_count": 78,
   "id": "4a3d3ee0",
   "metadata": {},
   "outputs": [
    {
     "data": {
      "text/plain": [
       "0.9112276000930646"
      ]
     },
     "execution_count": 78,
     "metadata": {},
     "output_type": "execute_result"
    }
   ],
   "source": [
    "# define X, y\n",
    "\n",
    "y = data_clean[\"median_house_value\"]\n",
    "X = data_clean.drop([\"median_house_value\"], axis=1)\n",
    "\n",
    "# Splitting the data\n",
    "X_train, X_test, y_train, y_test = train_test_split(X, y, \n",
    "                                                    test_size=.3, \n",
    "                                                    random_state=7)\n",
    "\n",
    "\n",
    "\n",
    "best_pipe = make_pipeline(MinMaxScaler(), KNeighborsRegressor(n_neighbors=10))\n",
    "best_pipe.fit(X_train, y_train)\n",
    "best_pipe.predict(X_test)\n",
    "best_pipe.score(X_test, y_test)\n"
   ]
  },
  {
   "cell_type": "code",
   "execution_count": 79,
   "id": "0cf5ef2e",
   "metadata": {},
   "outputs": [
    {
     "name": "stdout",
     "output_type": "stream",
     "text": [
      "{'fit_time': array([0.12891865, 0.11792922, 0.11992264, 0.10093856, 0.12466288]), 'score_time': array([0.3088088 , 0.34478712, 0.2878232 , 0.24003839, 0.47770381]), 'test_score': array([0.90955171, 0.91268899, 0.91245898, 0.90499884, 0.90407918])}\n"
     ]
    }
   ],
   "source": [
    "cv = cross_validate(best_pipe,X, y, cv=5)\n",
    "print(cv)"
   ]
  },
  {
   "cell_type": "code",
   "execution_count": 80,
   "id": "f39f49a1",
   "metadata": {},
   "outputs": [
    {
     "name": "stdout",
     "output_type": "stream",
     "text": [
      "MAE: 26069.378845377476\n",
      "RMSE: 34367.824508530946\n"
     ]
    }
   ],
   "source": [
    "y_pred = best_pipe.predict(X_test)\n",
    "print('MAE:', mean_absolute_error(y_test, y_pred))\n",
    "print('RMSE:', np.sqrt(mean_squared_error(y_test, y_pred)))"
   ]
  },
  {
   "cell_type": "code",
   "execution_count": 81,
   "id": "c4248cf7",
   "metadata": {},
   "outputs": [],
   "source": [
    "# Get train scores, train sizes, and validation scores using `learning_curve`, r2 score\n",
    "train_sizes, train_scores, test_scores = learning_curve(estimator = best_pipe,\n",
    "                                          X = X,\n",
    "                                          y = y,\n",
    "                                          train_sizes = [5,10,50,100,200,300,400,1000],\n",
    "                                          cv = 5,\n",
    "                                          shuffle = True,\n",
    "                                          random_state=3)"
   ]
  },
  {
   "cell_type": "code",
   "execution_count": 82,
   "id": "97c70ac3",
   "metadata": {},
   "outputs": [],
   "source": [
    "# Take the mean of cross-validated train scores and validation scores\n",
    "train_scores_mean = np.mean(train_scores, axis=1)\n",
    "test_scores_mean = np.mean(test_scores, axis=1)"
   ]
  },
  {
   "cell_type": "code",
   "execution_count": 83,
   "id": "36eabab1",
   "metadata": {},
   "outputs": [
    {
     "data": {
      "image/png": "[encoded data removed]",
      "text/plain": [
       "<Figure size 576x396 with 1 Axes>"
      ]
     },
     "metadata": {},
     "output_type": "display_data"
    }
   ],
   "source": [
    "# Plot the learning curves!\n",
    "plt.plot(train_sizes, train_scores_mean, label = 'Training score')\n",
    "plt.plot(train_sizes, test_scores_mean, label = 'Test score')\n",
    "plt.ylabel('score', fontsize = 14)\n",
    "plt.xlabel('Training set size', fontsize = 14)\n",
    "plt.title('Learning curves - pipe', fontsize = 18, y = 1.03)\n",
    "plt.legend()\n",
    "plt.show()"
   ]
  },
  {
   "cell_type": "markdown",
   "id": "3089a9da",
   "metadata": {},
   "source": [
    "### Best one so far! "
   ]
  },
  {
   "cell_type": "markdown",
   "id": "d024db83",
   "metadata": {},
   "source": [
    "# 5th iteration ( Model without the 500K goods )"
   ]
  },
  {
   "cell_type": "markdown",
   "id": "7654e844",
   "metadata": {},
   "source": [
    "same model as before"
   ]
  },
  {
   "cell_type": "code",
   "execution_count": 97,
   "id": "7784f03f",
   "metadata": {},
   "outputs": [],
   "source": [
    "no_out_data = data_clean[data_clean['median_house_value'] < 500001]"
   ]
  },
  {
   "cell_type": "code",
   "execution_count": 98,
   "id": "1cc19213",
   "metadata": {},
   "outputs": [
    {
     "data": {
      "text/html": [
       "<div>\n",
       "<style scoped>\n",
       "    .dataframe tbody tr th:only-of-type {\n",
       "        vertical-align: middle;\n",
       "    }\n",
       "\n",
       "    .dataframe tbody tr th {\n",
       "        vertical-align: top;\n",
       "    }\n",
       "\n",
       "    .dataframe thead th {\n",
       "        text-align: right;\n",
       "    }\n",
       "</style>\n",
       "<table border=\"1\" class=\"dataframe\">\n",
       "  <thead>\n",
       "    <tr style=\"text-align: right;\">\n",
       "      <th></th>\n",
       "      <th>longitude</th>\n",
       "      <th>latitude</th>\n",
       "      <th>housing_median_age</th>\n",
       "      <th>total_rooms</th>\n",
       "      <th>total_bedrooms</th>\n",
       "      <th>population</th>\n",
       "      <th>households</th>\n",
       "      <th>median_income</th>\n",
       "      <th>median_house_value</th>\n",
       "      <th>loc_INLAND</th>\n",
       "      <th>loc_ISLAND</th>\n",
       "      <th>loc_NEAR BAY</th>\n",
       "      <th>loc_NEAR OCEAN</th>\n",
       "      <th>kmeans_cluster</th>\n",
       "    </tr>\n",
       "  </thead>\n",
       "  <tbody>\n",
       "    <tr>\n",
       "      <th>0</th>\n",
       "      <td>-119.84</td>\n",
       "      <td>36.77</td>\n",
       "      <td>6.0</td>\n",
       "      <td>1853.0</td>\n",
       "      <td>473.0</td>\n",
       "      <td>1397.0</td>\n",
       "      <td>417.0</td>\n",
       "      <td>1.4817</td>\n",
       "      <td>72000.0</td>\n",
       "      <td>1</td>\n",
       "      <td>0</td>\n",
       "      <td>0</td>\n",
       "      <td>0</td>\n",
       "      <td>0</td>\n",
       "    </tr>\n",
       "    <tr>\n",
       "      <th>1</th>\n",
       "      <td>-117.80</td>\n",
       "      <td>33.68</td>\n",
       "      <td>8.0</td>\n",
       "      <td>2032.0</td>\n",
       "      <td>349.0</td>\n",
       "      <td>862.0</td>\n",
       "      <td>340.0</td>\n",
       "      <td>6.9133</td>\n",
       "      <td>274100.0</td>\n",
       "      <td>0</td>\n",
       "      <td>0</td>\n",
       "      <td>0</td>\n",
       "      <td>0</td>\n",
       "      <td>2</td>\n",
       "    </tr>\n",
       "    <tr>\n",
       "      <th>2</th>\n",
       "      <td>-120.19</td>\n",
       "      <td>36.60</td>\n",
       "      <td>25.0</td>\n",
       "      <td>875.0</td>\n",
       "      <td>214.0</td>\n",
       "      <td>931.0</td>\n",
       "      <td>214.0</td>\n",
       "      <td>1.5536</td>\n",
       "      <td>58300.0</td>\n",
       "      <td>1</td>\n",
       "      <td>0</td>\n",
       "      <td>0</td>\n",
       "      <td>0</td>\n",
       "      <td>0</td>\n",
       "    </tr>\n",
       "    <tr>\n",
       "      <th>3</th>\n",
       "      <td>-118.32</td>\n",
       "      <td>34.10</td>\n",
       "      <td>31.0</td>\n",
       "      <td>622.0</td>\n",
       "      <td>229.0</td>\n",
       "      <td>597.0</td>\n",
       "      <td>227.0</td>\n",
       "      <td>1.5284</td>\n",
       "      <td>200000.0</td>\n",
       "      <td>0</td>\n",
       "      <td>0</td>\n",
       "      <td>0</td>\n",
       "      <td>0</td>\n",
       "      <td>2</td>\n",
       "    </tr>\n",
       "    <tr>\n",
       "      <th>4</th>\n",
       "      <td>-121.23</td>\n",
       "      <td>37.79</td>\n",
       "      <td>21.0</td>\n",
       "      <td>1922.0</td>\n",
       "      <td>373.0</td>\n",
       "      <td>1130.0</td>\n",
       "      <td>372.0</td>\n",
       "      <td>4.0815</td>\n",
       "      <td>117900.0</td>\n",
       "      <td>1</td>\n",
       "      <td>0</td>\n",
       "      <td>0</td>\n",
       "      <td>0</td>\n",
       "      <td>0</td>\n",
       "    </tr>\n",
       "    <tr>\n",
       "      <th>...</th>\n",
       "      <td>...</td>\n",
       "      <td>...</td>\n",
       "      <td>...</td>\n",
       "      <td>...</td>\n",
       "      <td>...</td>\n",
       "      <td>...</td>\n",
       "      <td>...</td>\n",
       "      <td>...</td>\n",
       "      <td>...</td>\n",
       "      <td>...</td>\n",
       "      <td>...</td>\n",
       "      <td>...</td>\n",
       "      <td>...</td>\n",
       "      <td>...</td>\n",
       "    </tr>\n",
       "    <tr>\n",
       "      <th>16507</th>\n",
       "      <td>-119.73</td>\n",
       "      <td>34.44</td>\n",
       "      <td>38.0</td>\n",
       "      <td>1729.0</td>\n",
       "      <td>430.0</td>\n",
       "      <td>801.0</td>\n",
       "      <td>395.0</td>\n",
       "      <td>3.1364</td>\n",
       "      <td>357500.0</td>\n",
       "      <td>0</td>\n",
       "      <td>0</td>\n",
       "      <td>0</td>\n",
       "      <td>1</td>\n",
       "      <td>1</td>\n",
       "    </tr>\n",
       "    <tr>\n",
       "      <th>16508</th>\n",
       "      <td>-122.28</td>\n",
       "      <td>37.51</td>\n",
       "      <td>33.0</td>\n",
       "      <td>4719.0</td>\n",
       "      <td>814.0</td>\n",
       "      <td>1980.0</td>\n",
       "      <td>757.0</td>\n",
       "      <td>6.1064</td>\n",
       "      <td>405000.0</td>\n",
       "      <td>0</td>\n",
       "      <td>0</td>\n",
       "      <td>0</td>\n",
       "      <td>1</td>\n",
       "      <td>1</td>\n",
       "    </tr>\n",
       "    <tr>\n",
       "      <th>16509</th>\n",
       "      <td>-118.28</td>\n",
       "      <td>34.06</td>\n",
       "      <td>42.0</td>\n",
       "      <td>2472.0</td>\n",
       "      <td>1084.0</td>\n",
       "      <td>3795.0</td>\n",
       "      <td>1179.0</td>\n",
       "      <td>1.2254</td>\n",
       "      <td>162500.0</td>\n",
       "      <td>0</td>\n",
       "      <td>0</td>\n",
       "      <td>0</td>\n",
       "      <td>0</td>\n",
       "      <td>0</td>\n",
       "    </tr>\n",
       "    <tr>\n",
       "      <th>16510</th>\n",
       "      <td>-122.23</td>\n",
       "      <td>38.17</td>\n",
       "      <td>45.0</td>\n",
       "      <td>350.0</td>\n",
       "      <td>113.0</td>\n",
       "      <td>225.0</td>\n",
       "      <td>72.0</td>\n",
       "      <td>1.8942</td>\n",
       "      <td>216700.0</td>\n",
       "      <td>0</td>\n",
       "      <td>0</td>\n",
       "      <td>1</td>\n",
       "      <td>0</td>\n",
       "      <td>2</td>\n",
       "    </tr>\n",
       "    <tr>\n",
       "      <th>16511</th>\n",
       "      <td>-119.78</td>\n",
       "      <td>36.82</td>\n",
       "      <td>25.0</td>\n",
       "      <td>5016.0</td>\n",
       "      <td>1016.0</td>\n",
       "      <td>2133.0</td>\n",
       "      <td>928.0</td>\n",
       "      <td>3.6250</td>\n",
       "      <td>89500.0</td>\n",
       "      <td>1</td>\n",
       "      <td>0</td>\n",
       "      <td>0</td>\n",
       "      <td>0</td>\n",
       "      <td>0</td>\n",
       "    </tr>\n",
       "  </tbody>\n",
       "</table>\n",
       "<p>15749 rows × 14 columns</p>\n",
       "</div>"
      ],
      "text/plain": [
       "       longitude  latitude  housing_median_age  total_rooms  total_bedrooms  \\\n",
       "0        -119.84     36.77                 6.0       1853.0           473.0   \n",
       "1        -117.80     33.68                 8.0       2032.0           349.0   \n",
       "2        -120.19     36.60                25.0        875.0           214.0   \n",
       "3        -118.32     34.10                31.0        622.0           229.0   \n",
       "4        -121.23     37.79                21.0       1922.0           373.0   \n",
       "...          ...       ...                 ...          ...             ...   \n",
       "16507    -119.73     34.44                38.0       1729.0           430.0   \n",
       "16508    -122.28     37.51                33.0       4719.0           814.0   \n",
       "16509    -118.28     34.06                42.0       2472.0          1084.0   \n",
       "16510    -122.23     38.17                45.0        350.0           113.0   \n",
       "16511    -119.78     36.82                25.0       5016.0          1016.0   \n",
       "\n",
       "       population  households  median_income  median_house_value  loc_INLAND  \\\n",
       "0          1397.0       417.0         1.4817             72000.0           1   \n",
       "1           862.0       340.0         6.9133            274100.0           0   \n",
       "2           931.0       214.0         1.5536             58300.0           1   \n",
       "3           597.0       227.0         1.5284            200000.0           0   \n",
       "4          1130.0       372.0         4.0815            117900.0           1   \n",
       "...           ...         ...            ...                 ...         ...   \n",
       "16507       801.0       395.0         3.1364            357500.0           0   \n",
       "16508      1980.0       757.0         6.1064            405000.0           0   \n",
       "16509      3795.0      1179.0         1.2254            162500.0           0   \n",
       "16510       225.0        72.0         1.8942            216700.0           0   \n",
       "16511      2133.0       928.0         3.6250             89500.0           1   \n",
       "\n",
       "       loc_ISLAND  loc_NEAR BAY  loc_NEAR OCEAN  kmeans_cluster  \n",
       "0               0             0               0               0  \n",
       "1               0             0               0               2  \n",
       "2               0             0               0               0  \n",
       "3               0             0               0               2  \n",
       "4               0             0               0               0  \n",
       "...           ...           ...             ...             ...  \n",
       "16507           0             0               1               1  \n",
       "16508           0             0               1               1  \n",
       "16509           0             0               0               0  \n",
       "16510           0             1               0               2  \n",
       "16511           0             0               0               0  \n",
       "\n",
       "[15749 rows x 14 columns]"
      ]
     },
     "execution_count": 98,
     "metadata": {},
     "output_type": "execute_result"
    }
   ],
   "source": [
    "no_out_data"
   ]
  },
  {
   "cell_type": "code",
   "execution_count": 99,
   "id": "3c584c84",
   "metadata": {},
   "outputs": [
    {
     "data": {
      "image/png": "[encoded data removed]",
      "text/plain": [
       "<Figure size 576x396 with 2 Axes>"
      ]
     },
     "metadata": {},
     "output_type": "display_data"
    },
    {
     "data": {
      "text/plain": [
       "<AxesSubplot:title={'center':'Distortion Score Elbow for KMeans Clustering'}, xlabel='k', ylabel='distortion score'>"
      ]
     },
     "execution_count": 99,
     "metadata": {},
     "output_type": "execute_result"
    }
   ],
   "source": [
    "X = no_out_data\n",
    "model = KMeans()\n",
    "visualizer = KElbowVisualizer(model, k=(1,10))\n",
    "\n",
    "visualizer.fit(X)        # Fit the data to the visualizer\n",
    "visualizer.show()  "
   ]
  },
  {
   "cell_type": "code",
   "execution_count": 100,
   "id": "40f1e0ff",
   "metadata": {},
   "outputs": [],
   "source": [
    "kmeans = no_out_data\n",
    "\n",
    "kmeansed = KMeans(n_clusters =3,init='k-means++').fit(kmeans)\n",
    "kmeansed.labels_\n",
    "kmeans['kmeans_cluster'] = kmeansed.predict(kmeans)"
   ]
  },
  {
   "cell_type": "code",
   "execution_count": 101,
   "id": "ab5a0d6d",
   "metadata": {},
   "outputs": [
    {
     "data": {
      "text/plain": [
       "0.8940385555095863"
      ]
     },
     "execution_count": 101,
     "metadata": {},
     "output_type": "execute_result"
    }
   ],
   "source": [
    "# define X, y\n",
    "\n",
    "y = no_out_data[\"median_house_value\"]\n",
    "X = no_out_data.drop([\"median_house_value\"], axis=1)\n",
    "\n",
    "# Splitting the data\n",
    "X_train, X_test, y_train, y_test = train_test_split(X, y, \n",
    "                                                    test_size=.3, \n",
    "                                                    random_state=10)\n",
    "\n",
    "no_out_pipe = make_pipeline(MinMaxScaler(), KNeighborsRegressor(n_neighbors=9))\n",
    "no_out_pipe.fit(X_train, y_train)\n",
    "no_out_pipe.predict(X_test)\n",
    "no_out_pipe.score(X_test, y_test)\n"
   ]
  },
  {
   "cell_type": "code",
   "execution_count": 102,
   "id": "fe22e6c8",
   "metadata": {},
   "outputs": [
    {
     "name": "stdout",
     "output_type": "stream",
     "text": [
      "{'fit_time': array([0.11559582, 0.07625842, 0.08189082, 0.07812119, 0.11292505]), 'score_time': array([0.37759042, 0.23318243, 0.22405148, 0.28414106, 0.31005025]), 'test_score': array([0.89913234, 0.89535156, 0.89608519, 0.89371431, 0.89179074])}\n"
     ]
    }
   ],
   "source": [
    "cv = cross_validate(no_out_pipe,X, y, cv=5)\n",
    "print(cv)"
   ]
  },
  {
   "cell_type": "code",
   "execution_count": 103,
   "id": "d184df72",
   "metadata": {},
   "outputs": [
    {
     "name": "stdout",
     "output_type": "stream",
     "text": [
      "MAE: 24030.34005878895\n",
      "RMSE: 31682.34300722648\n"
     ]
    }
   ],
   "source": [
    "y_pred = no_out_pipe.predict(X_test)\n",
    "print('MAE:', mean_absolute_error(y_test, y_pred))\n",
    "print('RMSE:', np.sqrt(mean_squared_error(y_test, y_pred)))"
   ]
  },
  {
   "cell_type": "code",
   "execution_count": 104,
   "id": "3739ad5b",
   "metadata": {},
   "outputs": [],
   "source": [
    "# Get train scores, train sizes, and validation scores using `learning_curve`, r2 score\n",
    "train_sizes, train_scores, test_scores = learning_curve(estimator = no_out_pipe,\n",
    "                                          X = X,\n",
    "                                          y = y,\n",
    "                                          train_sizes = [5,10,50,100,200,300,400,1000],\n",
    "                                          cv = 5,\n",
    "                                          shuffle = True,\n",
    "                                          random_state=3)"
   ]
  },
  {
   "cell_type": "code",
   "execution_count": 105,
   "id": "c5700608",
   "metadata": {},
   "outputs": [],
   "source": [
    "# Take the mean of cross-validated train scores and validation scores\n",
    "train_scores_mean = np.mean(train_scores, axis=1)\n",
    "test_scores_mean = np.mean(test_scores, axis=1)"
   ]
  },
  {
   "cell_type": "code",
   "execution_count": 106,
   "id": "80a2acb1",
   "metadata": {},
   "outputs": [
    {
     "data": {
      "image/png": "[encoded data removed]",
      "text/plain": [
       "<Figure size 576x396 with 1 Axes>"
      ]
     },
     "metadata": {},
     "output_type": "display_data"
    }
   ],
   "source": [
    "# Plot the learning curves!\n",
    "plt.plot(train_sizes, train_scores_mean, label = 'Training score')\n",
    "plt.plot(train_sizes, test_scores_mean, label = 'Test score')\n",
    "plt.ylabel('score', fontsize = 14)\n",
    "plt.xlabel('Training set size', fontsize = 14)\n",
    "plt.title('Learning curves - pipe', fontsize = 18, y = 1.03)\n",
    "plt.legend()\n",
    "plt.show()"
   ]
  },
  {
   "cell_type": "markdown",
   "id": "f00b486a",
   "metadata": {},
   "source": [
    "### My score went down, BUT my mean absolure error is better AND my model isn't over fitting! "
   ]
  },
  {
   "cell_type": "markdown",
   "id": "09c1bd9f",
   "metadata": {},
   "source": [
    "This is my very best model let's do some feature selection"
   ]
  },
  {
   "cell_type": "code",
   "execution_count": 107,
   "id": "9a16912a",
   "metadata": {},
   "outputs": [
    {
     "data": {
      "text/plain": [
       "0.8923854675604361"
      ]
     },
     "execution_count": 107,
     "metadata": {},
     "output_type": "execute_result"
    }
   ],
   "source": [
    "# define X, y\n",
    "\n",
    "y = no_out_data[\"median_house_value\"]\n",
    "X = no_out_data.drop([\"median_house_value\",  \"total_bedrooms\", \"total_rooms\", \"latitude\"], axis=1)\n",
    "\n",
    "# Splitting the data\n",
    "X_train, X_test, y_train, y_test = train_test_split(X, y, \n",
    "                                                    test_size=.3, \n",
    "                                                    random_state=10)\n",
    "\n",
    "\n",
    "\n",
    "no_out_selection_pipe = make_pipeline(MinMaxScaler(), KNeighborsRegressor(n_neighbors=9))\n",
    "no_out_selection_pipe.fit(X_train, y_train)\n",
    "no_out_selection_pipe.predict(X_test)\n",
    "no_out_selection_pipe.score(X_test, y_test)\n"
   ]
  },
  {
   "cell_type": "code",
   "execution_count": 108,
   "id": "52d73b26",
   "metadata": {},
   "outputs": [
    {
     "name": "stdout",
     "output_type": "stream",
     "text": [
      "{'fit_time': array([0.10493374, 0.07812166, 0.09374642, 0.06249619, 0.0843904 ]), 'score_time': array([0.15900278, 0.15624475, 0.18887615, 0.21076369, 0.30040693]), 'test_score': array([0.89825028, 0.89311921, 0.89506623, 0.89032762, 0.88924081])}\n"
     ]
    }
   ],
   "source": [
    "cv = cross_validate(no_out_selection_pipe,X, y, cv=5)\n",
    "print(cv)"
   ]
  },
  {
   "cell_type": "code",
   "execution_count": 109,
   "id": "88810b26",
   "metadata": {},
   "outputs": [
    {
     "name": "stdout",
     "output_type": "stream",
     "text": [
      "MAE: 24286.544667842445\n",
      "RMSE: 31928.522215202112\n"
     ]
    }
   ],
   "source": [
    "y_pred = no_out_selection_pipe.predict(X_test)\n",
    "print('MAE:', mean_absolute_error(y_test, y_pred))\n",
    "print('RMSE:', np.sqrt(mean_squared_error(y_test, y_pred)))"
   ]
  },
  {
   "cell_type": "markdown",
   "id": "774dcd3e",
   "metadata": {},
   "source": [
    "Score isnt better I will keep it with all the features"
   ]
  },
  {
   "cell_type": "markdown",
   "id": "df7df1ef",
   "metadata": {},
   "source": [
    "# One try with StandardScaler"
   ]
  },
  {
   "cell_type": "code",
   "execution_count": 110,
   "id": "2b59b504",
   "metadata": {},
   "outputs": [
    {
     "data": {
      "text/plain": [
       "0.8782426099918756"
      ]
     },
     "execution_count": 110,
     "metadata": {},
     "output_type": "execute_result"
    }
   ],
   "source": [
    "# define X, y\n",
    "\n",
    "y = no_out_data[\"median_house_value\"]\n",
    "X = no_out_data.drop([\"median_house_value\"], axis=1)\n",
    "\n",
    "# Splitting the data\n",
    "X_train, X_test, y_train, y_test = train_test_split(X, y, \n",
    "                                                    test_size=.3, \n",
    "                                                    random_state=10)\n",
    "\n",
    "\n",
    "\n",
    "no_out_ss_pipe = make_pipeline(StandardScaler(), KNeighborsRegressor(n_neighbors=9))\n",
    "no_out_ss_pipe.fit(X_train, y_train)\n",
    "no_out_ss_pipe.predict(X_test)\n",
    "no_out_ss_pipe.score(X_test, y_test)\n"
   ]
  },
  {
   "cell_type": "code",
   "execution_count": 111,
   "id": "d6a33895",
   "metadata": {},
   "outputs": [
    {
     "name": "stdout",
     "output_type": "stream",
     "text": [
      "MAE: 24769.733309817755\n",
      "RMSE: 33961.82513203997\n"
     ]
    }
   ],
   "source": [
    "y_pred = no_out_ss_pipe.predict(X_test)\n",
    "print('MAE:', mean_absolute_error(y_test, y_pred))\n",
    "print('RMSE:', np.sqrt(mean_squared_error(y_test, y_pred)))"
   ]
  },
  {
   "cell_type": "markdown",
   "id": "1daf450e",
   "metadata": {},
   "source": [
    "# One try with Robust Scaler"
   ]
  },
  {
   "cell_type": "code",
   "execution_count": 112,
   "id": "66528199",
   "metadata": {},
   "outputs": [
    {
     "data": {
      "text/plain": [
       "0.8742560962204657"
      ]
     },
     "execution_count": 112,
     "metadata": {},
     "output_type": "execute_result"
    }
   ],
   "source": [
    "# define X, y\n",
    "\n",
    "y = no_out_data[\"median_house_value\"]\n",
    "X = no_out_data.drop([\"median_house_value\"], axis=1)\n",
    "\n",
    "# Splitting the data\n",
    "X_train, X_test, y_train, y_test = train_test_split(X, y, \n",
    "                                                    test_size=.3, \n",
    "                                                    random_state=10)\n",
    "\n",
    "\n",
    "\n",
    "no_out_rs_pipe = make_pipeline(RobustScaler(), KNeighborsRegressor(n_neighbors=9))\n",
    "no_out_rs_pipe.fit(X_train, y_train)\n",
    "no_out_rs_pipe.predict(X_test)\n",
    "no_out_rs_pipe.score(X_test, y_test)\n"
   ]
  },
  {
   "cell_type": "code",
   "execution_count": 113,
   "id": "87c74ca9",
   "metadata": {},
   "outputs": [
    {
     "name": "stdout",
     "output_type": "stream",
     "text": [
      "MAE: 25214.70687830688\n",
      "RMSE: 34513.32698504561\n"
     ]
    }
   ],
   "source": [
    "y_pred = no_out_rs_pipe.predict(X_test)\n",
    "print('MAE:', mean_absolute_error(y_test, y_pred))\n",
    "print('RMSE:', np.sqrt(mean_squared_error(y_test, y_pred)))"
   ]
  },
  {
   "cell_type": "markdown",
   "id": "bf8c28d9",
   "metadata": {},
   "source": [
    "Not better for both of them"
   ]
  },
  {
   "cell_type": "markdown",
   "id": "fdeb67a4",
   "metadata": {},
   "source": [
    "# Conclusion"
   ]
  },
  {
   "cell_type": "markdown",
   "id": "2b8dca2f",
   "metadata": {},
   "source": [
    "As a conclusion, the best score I had was not the best model, \n",
    "\n",
    "-I had 0.96 score and a MAE of 14,000$ but the model was over fitting\n",
    "\n",
    "-Then I had a 0.91 score and a MAE of 26 000$ and the model was good\n",
    "\n",
    "-Then I decided to take off the values that were messing our predictions, so that means goods stacked at 500K and I got my lowest MAE ever 24K and the model was good\n",
    "\n",
    "-Feature selection didn't get me high enough score so I used all the features for the predictions"
   ]
  },
  {
   "cell_type": "markdown",
   "id": "ad74a78e",
   "metadata": {},
   "source": [
    "# Model to use, that fits the best"
   ]
  },
  {
   "cell_type": "raw",
   "id": "9e4a27c5",
   "metadata": {},
   "source": [
    "Steps to my best score\n",
    "    \n",
    "    - Predict Null values\n",
    "    \n",
    "    - Remove outliers from the dataset\n",
    "    \n",
    "    - Perform a MinMaxScaler\n",
    "    \n",
    "    -  KMeans\n",
    "    \n",
    "    -  KNN\n",
    "    \n",
    "    -  CrossValidation\n",
    "    \n",
    "    -  MAE/RMSE\n",
    "    \n",
    "    -  Learning Curve"
   ]
  },
  {
   "cell_type": "markdown",
   "id": "7a63dc50",
   "metadata": {},
   "source": [
    "# Pickle export\n"
   ]
  },
  {
   "cell_type": "code",
   "execution_count": 114,
   "id": "43f87083",
   "metadata": {},
   "outputs": [],
   "source": [
    "# Export pipeline as pickle file\n",
    "with open(\"model.pkl\", \"wb\") as file:\n",
    "    pickle.dump(no_out_selection_pipe, file)"
   ]
  },
  {
   "cell_type": "code",
   "execution_count": null,
   "id": "1895c9d2",
   "metadata": {},
   "outputs": [],
   "source": []
  }
 ],
 "metadata": {
  "kernelspec": {
   "display_name": "Python 3",
   "language": "python",
   "name": "python3"
  },
  "language_info": {
   "codemirror_mode": {
    "name": "ipython",
    "version": 3
   },
   "file_extension": ".py",
   "mimetype": "text/x-python",
   "name": "python",
   "nbconvert_exporter": "python",
   "pygments_lexer": "ipython3",
   "version": "3.8.8"
  }
 },
 "nbformat": 4,
 "nbformat_minor": 5
}
